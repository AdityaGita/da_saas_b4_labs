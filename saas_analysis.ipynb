{
 "cells": [
  {
   "cell_type": "code",
   "execution_count": 1,
   "id": "c30e6561-7045-41e1-ae62-ce5a03af405f",
   "metadata": {},
   "outputs": [],
   "source": [
    "#import the library\n",
    "import pandas as pd\n",
    "import numpy as np\n",
    "import matplotlib.pyplot as plt\n",
    "import seaborn as sns\n",
    "from datetime import datetime\n",
    "from datetime import timedelta\n",
    "pd.set_option('display.float_format', lambda x: '%.3f' % x)"
   ]
  },
  {
   "cell_type": "code",
   "execution_count": 39,
   "id": "7d9208c4-5bd7-4784-969e-9e82b6e472ce",
   "metadata": {},
   "outputs": [
    {
     "name": "stdout",
     "output_type": "stream",
     "text": [
      "<class 'pandas.core.frame.DataFrame'>\n",
      "RangeIndex: 1754 entries, 0 to 1753\n",
      "Data columns (total 7 columns):\n",
      " #   Column              Non-Null Count  Dtype \n",
      "---  ------              --------------  ----- \n",
      " 0   contract_id         1754 non-null   int64 \n",
      " 1   leads_id            1754 non-null   int64 \n",
      " 2   date                1754 non-null   object\n",
      " 3   subscription_type   1754 non-null   object\n",
      " 4   number_of_employee  1754 non-null   int64 \n",
      " 5   reten_flag          1754 non-null   int64 \n",
      " 6   user_price          1754 non-null   int64 \n",
      "dtypes: int64(5), object(2)\n",
      "memory usage: 96.0+ KB\n"
     ]
    },
    {
     "data": {
      "text/plain": [
       "'contracts'"
      ]
     },
     "metadata": {},
     "output_type": "display_data"
    },
    {
     "data": {
      "text/html": [
       "<div>\n",
       "<style scoped>\n",
       "    .dataframe tbody tr th:only-of-type {\n",
       "        vertical-align: middle;\n",
       "    }\n",
       "\n",
       "    .dataframe tbody tr th {\n",
       "        vertical-align: top;\n",
       "    }\n",
       "\n",
       "    .dataframe thead th {\n",
       "        text-align: right;\n",
       "    }\n",
       "</style>\n",
       "<table border=\"1\" class=\"dataframe\">\n",
       "  <thead>\n",
       "    <tr style=\"text-align: right;\">\n",
       "      <th></th>\n",
       "      <th>contract_id</th>\n",
       "      <th>leads_id</th>\n",
       "      <th>date</th>\n",
       "      <th>subscription_type</th>\n",
       "      <th>number_of_employee</th>\n",
       "      <th>reten_flag</th>\n",
       "      <th>user_price</th>\n",
       "    </tr>\n",
       "  </thead>\n",
       "  <tbody>\n",
       "    <tr>\n",
       "      <th>0</th>\n",
       "      <td>1194</td>\n",
       "      <td>3338</td>\n",
       "      <td>2022-12-19</td>\n",
       "      <td>Startup</td>\n",
       "      <td>15</td>\n",
       "      <td>0</td>\n",
       "      <td>20000</td>\n",
       "    </tr>\n",
       "    <tr>\n",
       "      <th>1</th>\n",
       "      <td>1737</td>\n",
       "      <td>3338</td>\n",
       "      <td>2023-12-19</td>\n",
       "      <td>Startup</td>\n",
       "      <td>15</td>\n",
       "      <td>1</td>\n",
       "      <td>20000</td>\n",
       "    </tr>\n",
       "    <tr>\n",
       "      <th>2</th>\n",
       "      <td>268</td>\n",
       "      <td>980</td>\n",
       "      <td>2021-10-07</td>\n",
       "      <td>Startup</td>\n",
       "      <td>275</td>\n",
       "      <td>0</td>\n",
       "      <td>20000</td>\n",
       "    </tr>\n",
       "    <tr>\n",
       "      <th>3</th>\n",
       "      <td>441</td>\n",
       "      <td>1579</td>\n",
       "      <td>2022-02-01</td>\n",
       "      <td>Startup</td>\n",
       "      <td>275</td>\n",
       "      <td>0</td>\n",
       "      <td>20000</td>\n",
       "    </tr>\n",
       "    <tr>\n",
       "      <th>4</th>\n",
       "      <td>1283</td>\n",
       "      <td>1579</td>\n",
       "      <td>2023-02-01</td>\n",
       "      <td>Startup</td>\n",
       "      <td>275</td>\n",
       "      <td>1</td>\n",
       "      <td>20000</td>\n",
       "    </tr>\n",
       "  </tbody>\n",
       "</table>\n",
       "</div>"
      ],
      "text/plain": [
       "   contract_id  leads_id        date subscription_type  number_of_employee  \\\n",
       "0         1194      3338  2022-12-19           Startup                  15   \n",
       "1         1737      3338  2023-12-19           Startup                  15   \n",
       "2          268       980  2021-10-07           Startup                 275   \n",
       "3          441      1579  2022-02-01           Startup                 275   \n",
       "4         1283      1579  2023-02-01           Startup                 275   \n",
       "\n",
       "   reten_flag  user_price  \n",
       "0           0       20000  \n",
       "1           1       20000  \n",
       "2           0       20000  \n",
       "3           0       20000  \n",
       "4           1       20000  "
      ]
     },
     "metadata": {},
     "output_type": "display_data"
    },
    {
     "data": {
      "text/plain": [
       "None"
      ]
     },
     "metadata": {},
     "output_type": "display_data"
    },
    {
     "name": "stdout",
     "output_type": "stream",
     "text": [
      "<class 'pandas.core.frame.DataFrame'>\n",
      "RangeIndex: 442 entries, 0 to 441\n",
      "Data columns (total 5 columns):\n",
      " #   Column              Non-Null Count  Dtype \n",
      "---  ------              --------------  ----- \n",
      " 0   contract_id         442 non-null    int64 \n",
      " 1   discount_type_code  442 non-null    object\n",
      " 2   deal_won            442 non-null    object\n",
      " 3   user_price_after    442 non-null    int64 \n",
      " 4   reten_flag          442 non-null    int64 \n",
      "dtypes: int64(3), object(2)\n",
      "memory usage: 17.4+ KB\n"
     ]
    },
    {
     "data": {
      "text/plain": [
       "'discounts'"
      ]
     },
     "metadata": {},
     "output_type": "display_data"
    },
    {
     "data": {
      "text/html": [
       "<div>\n",
       "<style scoped>\n",
       "    .dataframe tbody tr th:only-of-type {\n",
       "        vertical-align: middle;\n",
       "    }\n",
       "\n",
       "    .dataframe tbody tr th {\n",
       "        vertical-align: top;\n",
       "    }\n",
       "\n",
       "    .dataframe thead th {\n",
       "        text-align: right;\n",
       "    }\n",
       "</style>\n",
       "<table border=\"1\" class=\"dataframe\">\n",
       "  <thead>\n",
       "    <tr style=\"text-align: right;\">\n",
       "      <th></th>\n",
       "      <th>contract_id</th>\n",
       "      <th>discount_type_code</th>\n",
       "      <th>deal_won</th>\n",
       "      <th>user_price_after</th>\n",
       "      <th>reten_flag</th>\n",
       "    </tr>\n",
       "  </thead>\n",
       "  <tbody>\n",
       "    <tr>\n",
       "      <th>0</th>\n",
       "      <td>4</td>\n",
       "      <td>D1</td>\n",
       "      <td>2021-01-01 10:45:45.000000 UTC</td>\n",
       "      <td>18000</td>\n",
       "      <td>0</td>\n",
       "    </tr>\n",
       "    <tr>\n",
       "      <th>1</th>\n",
       "      <td>8</td>\n",
       "      <td>D1</td>\n",
       "      <td>2021-01-04 12:27:39.000000 UTC</td>\n",
       "      <td>18000</td>\n",
       "      <td>0</td>\n",
       "    </tr>\n",
       "    <tr>\n",
       "      <th>2</th>\n",
       "      <td>12</td>\n",
       "      <td>D1</td>\n",
       "      <td>2021-01-05 10:40:32.000000 UTC</td>\n",
       "      <td>18000</td>\n",
       "      <td>0</td>\n",
       "    </tr>\n",
       "    <tr>\n",
       "      <th>3</th>\n",
       "      <td>14</td>\n",
       "      <td>D1</td>\n",
       "      <td>2021-01-05 11:38:35.000000 UTC</td>\n",
       "      <td>18000</td>\n",
       "      <td>0</td>\n",
       "    </tr>\n",
       "    <tr>\n",
       "      <th>4</th>\n",
       "      <td>19</td>\n",
       "      <td>D1</td>\n",
       "      <td>2021-01-07 11:34:42.000000 UTC</td>\n",
       "      <td>18000</td>\n",
       "      <td>0</td>\n",
       "    </tr>\n",
       "  </tbody>\n",
       "</table>\n",
       "</div>"
      ],
      "text/plain": [
       "   contract_id discount_type_code                        deal_won  \\\n",
       "0            4                 D1  2021-01-01 10:45:45.000000 UTC   \n",
       "1            8                 D1  2021-01-04 12:27:39.000000 UTC   \n",
       "2           12                 D1  2021-01-05 10:40:32.000000 UTC   \n",
       "3           14                 D1  2021-01-05 11:38:35.000000 UTC   \n",
       "4           19                 D1  2021-01-07 11:34:42.000000 UTC   \n",
       "\n",
       "   user_price_after  reten_flag  \n",
       "0             18000           0  \n",
       "1             18000           0  \n",
       "2             18000           0  \n",
       "3             18000           0  \n",
       "4             18000           0  "
      ]
     },
     "metadata": {},
     "output_type": "display_data"
    },
    {
     "data": {
      "text/plain": [
       "None"
      ]
     },
     "metadata": {},
     "output_type": "display_data"
    },
    {
     "name": "stdout",
     "output_type": "stream",
     "text": [
      "<class 'pandas.core.frame.DataFrame'>\n",
      "RangeIndex: 2 entries, 0 to 1\n",
      "Data columns (total 3 columns):\n",
      " #   Column              Non-Null Count  Dtype \n",
      "---  ------              --------------  ----- \n",
      " 0   discount_type_code  2 non-null      object\n",
      " 1   discount_type       2 non-null      object\n",
      " 2   discount_type_desc  2 non-null      object\n",
      "dtypes: object(3)\n",
      "memory usage: 176.0+ bytes\n"
     ]
    },
    {
     "data": {
      "text/plain": [
       "'discount_types'"
      ]
     },
     "metadata": {},
     "output_type": "display_data"
    },
    {
     "data": {
      "text/html": [
       "<div>\n",
       "<style scoped>\n",
       "    .dataframe tbody tr th:only-of-type {\n",
       "        vertical-align: middle;\n",
       "    }\n",
       "\n",
       "    .dataframe tbody tr th {\n",
       "        vertical-align: top;\n",
       "    }\n",
       "\n",
       "    .dataframe thead th {\n",
       "        text-align: right;\n",
       "    }\n",
       "</style>\n",
       "<table border=\"1\" class=\"dataframe\">\n",
       "  <thead>\n",
       "    <tr style=\"text-align: right;\">\n",
       "      <th></th>\n",
       "      <th>discount_type_code</th>\n",
       "      <th>discount_type</th>\n",
       "      <th>discount_type_desc</th>\n",
       "    </tr>\n",
       "  </thead>\n",
       "  <tbody>\n",
       "    <tr>\n",
       "      <th>0</th>\n",
       "      <td>D2</td>\n",
       "      <td>2022_quarter_discount</td>\n",
       "      <td>3 month discounts</td>\n",
       "    </tr>\n",
       "    <tr>\n",
       "      <th>1</th>\n",
       "      <td>D1</td>\n",
       "      <td>2021_quarter_discount</td>\n",
       "      <td>3 month discounts</td>\n",
       "    </tr>\n",
       "  </tbody>\n",
       "</table>\n",
       "</div>"
      ],
      "text/plain": [
       "  discount_type_code          discount_type discount_type_desc\n",
       "0                 D2  2022_quarter_discount  3 month discounts\n",
       "1                 D1  2021_quarter_discount  3 month discounts"
      ]
     },
     "metadata": {},
     "output_type": "display_data"
    },
    {
     "data": {
      "text/plain": [
       "None"
      ]
     },
     "metadata": {},
     "output_type": "display_data"
    },
    {
     "name": "stdout",
     "output_type": "stream",
     "text": [
      "<class 'pandas.core.frame.DataFrame'>\n",
      "RangeIndex: 16328 entries, 0 to 16327\n",
      "Data columns (total 5 columns):\n",
      " #   Column     Non-Null Count  Dtype \n",
      "---  ------     --------------  ----- \n",
      " 0   funnel_id  16328 non-null  int64 \n",
      " 1   leads_id   16328 non-null  int64 \n",
      " 2   stage_id   16328 non-null  int64 \n",
      " 3   TimeStamp  16328 non-null  object\n",
      " 4   reason     1990 non-null   object\n",
      "dtypes: int64(3), object(2)\n",
      "memory usage: 637.9+ KB\n"
     ]
    },
    {
     "data": {
      "text/plain": [
       "'funnel'"
      ]
     },
     "metadata": {},
     "output_type": "display_data"
    },
    {
     "data": {
      "text/html": [
       "<div>\n",
       "<style scoped>\n",
       "    .dataframe tbody tr th:only-of-type {\n",
       "        vertical-align: middle;\n",
       "    }\n",
       "\n",
       "    .dataframe tbody tr th {\n",
       "        vertical-align: top;\n",
       "    }\n",
       "\n",
       "    .dataframe thead th {\n",
       "        text-align: right;\n",
       "    }\n",
       "</style>\n",
       "<table border=\"1\" class=\"dataframe\">\n",
       "  <thead>\n",
       "    <tr style=\"text-align: right;\">\n",
       "      <th></th>\n",
       "      <th>funnel_id</th>\n",
       "      <th>leads_id</th>\n",
       "      <th>stage_id</th>\n",
       "      <th>TimeStamp</th>\n",
       "      <th>reason</th>\n",
       "    </tr>\n",
       "  </thead>\n",
       "  <tbody>\n",
       "    <tr>\n",
       "      <th>0</th>\n",
       "      <td>1</td>\n",
       "      <td>1</td>\n",
       "      <td>101</td>\n",
       "      <td>2020-11-25 13:49:44.000000 UTC</td>\n",
       "      <td>NaN</td>\n",
       "    </tr>\n",
       "    <tr>\n",
       "      <th>1</th>\n",
       "      <td>2</td>\n",
       "      <td>2</td>\n",
       "      <td>101</td>\n",
       "      <td>2020-11-26 09:04:53.000000 UTC</td>\n",
       "      <td>NaN</td>\n",
       "    </tr>\n",
       "    <tr>\n",
       "      <th>2</th>\n",
       "      <td>3</td>\n",
       "      <td>3</td>\n",
       "      <td>101</td>\n",
       "      <td>2020-11-26 09:26:32.000000 UTC</td>\n",
       "      <td>NaN</td>\n",
       "    </tr>\n",
       "    <tr>\n",
       "      <th>3</th>\n",
       "      <td>4</td>\n",
       "      <td>4</td>\n",
       "      <td>101</td>\n",
       "      <td>2020-11-26 13:56:31.000000 UTC</td>\n",
       "      <td>NaN</td>\n",
       "    </tr>\n",
       "    <tr>\n",
       "      <th>4</th>\n",
       "      <td>5</td>\n",
       "      <td>5</td>\n",
       "      <td>101</td>\n",
       "      <td>2020-11-27 11:07:38.000000 UTC</td>\n",
       "      <td>NaN</td>\n",
       "    </tr>\n",
       "  </tbody>\n",
       "</table>\n",
       "</div>"
      ],
      "text/plain": [
       "   funnel_id  leads_id  stage_id                       TimeStamp reason\n",
       "0          1         1       101  2020-11-25 13:49:44.000000 UTC    NaN\n",
       "1          2         2       101  2020-11-26 09:04:53.000000 UTC    NaN\n",
       "2          3         3       101  2020-11-26 09:26:32.000000 UTC    NaN\n",
       "3          4         4       101  2020-11-26 13:56:31.000000 UTC    NaN\n",
       "4          5         5       101  2020-11-27 11:07:38.000000 UTC    NaN"
      ]
     },
     "metadata": {},
     "output_type": "display_data"
    },
    {
     "data": {
      "text/plain": [
       "None"
      ]
     },
     "metadata": {},
     "output_type": "display_data"
    },
    {
     "name": "stdout",
     "output_type": "stream",
     "text": [
      "<class 'pandas.core.frame.DataFrame'>\n",
      "RangeIndex: 11939 entries, 0 to 11938\n",
      "Data columns (total 4 columns):\n",
      " #   Column          Non-Null Count  Dtype \n",
      "---  ------          --------------  ----- \n",
      " 0   leads_id        11939 non-null  int64 \n",
      " 1   ga_id           11939 non-null  int64 \n",
      " 2   Page_Name       11939 non-null  object\n",
      " 3   Page_timestamp  11939 non-null  object\n",
      "dtypes: int64(2), object(2)\n",
      "memory usage: 373.2+ KB\n"
     ]
    },
    {
     "data": {
      "text/plain": [
       "'google_analytics'"
      ]
     },
     "metadata": {},
     "output_type": "display_data"
    },
    {
     "data": {
      "text/html": [
       "<div>\n",
       "<style scoped>\n",
       "    .dataframe tbody tr th:only-of-type {\n",
       "        vertical-align: middle;\n",
       "    }\n",
       "\n",
       "    .dataframe tbody tr th {\n",
       "        vertical-align: top;\n",
       "    }\n",
       "\n",
       "    .dataframe thead th {\n",
       "        text-align: right;\n",
       "    }\n",
       "</style>\n",
       "<table border=\"1\" class=\"dataframe\">\n",
       "  <thead>\n",
       "    <tr style=\"text-align: right;\">\n",
       "      <th></th>\n",
       "      <th>leads_id</th>\n",
       "      <th>ga_id</th>\n",
       "      <th>Page_Name</th>\n",
       "      <th>Page_timestamp</th>\n",
       "    </tr>\n",
       "  </thead>\n",
       "  <tbody>\n",
       "    <tr>\n",
       "      <th>0</th>\n",
       "      <td>1</td>\n",
       "      <td>1</td>\n",
       "      <td>/home</td>\n",
       "      <td>2020-11-25 13:47:09.000000 UTC</td>\n",
       "    </tr>\n",
       "    <tr>\n",
       "      <th>1</th>\n",
       "      <td>7</td>\n",
       "      <td>24</td>\n",
       "      <td>/home</td>\n",
       "      <td>2020-11-30 12:12:30.000000 UTC</td>\n",
       "    </tr>\n",
       "    <tr>\n",
       "      <th>2</th>\n",
       "      <td>8</td>\n",
       "      <td>27</td>\n",
       "      <td>/home</td>\n",
       "      <td>2020-11-30 16:08:34.000000 UTC</td>\n",
       "    </tr>\n",
       "    <tr>\n",
       "      <th>3</th>\n",
       "      <td>13</td>\n",
       "      <td>47</td>\n",
       "      <td>/home</td>\n",
       "      <td>2020-12-01 11:22:49.000000 UTC</td>\n",
       "    </tr>\n",
       "    <tr>\n",
       "      <th>4</th>\n",
       "      <td>16</td>\n",
       "      <td>53</td>\n",
       "      <td>/home</td>\n",
       "      <td>2020-12-02 12:56:54.000000 UTC</td>\n",
       "    </tr>\n",
       "  </tbody>\n",
       "</table>\n",
       "</div>"
      ],
      "text/plain": [
       "   leads_id  ga_id Page_Name                  Page_timestamp\n",
       "0         1      1     /home  2020-11-25 13:47:09.000000 UTC\n",
       "1         7     24     /home  2020-11-30 12:12:30.000000 UTC\n",
       "2         8     27     /home  2020-11-30 16:08:34.000000 UTC\n",
       "3        13     47     /home  2020-12-01 11:22:49.000000 UTC\n",
       "4        16     53     /home  2020-12-02 12:56:54.000000 UTC"
      ]
     },
     "metadata": {},
     "output_type": "display_data"
    },
    {
     "data": {
      "text/plain": [
       "None"
      ]
     },
     "metadata": {},
     "output_type": "display_data"
    },
    {
     "name": "stdout",
     "output_type": "stream",
     "text": [
      "<class 'pandas.core.frame.DataFrame'>\n",
      "RangeIndex: 6 entries, 0 to 5\n",
      "Data columns (total 2 columns):\n",
      " #   Column         Non-Null Count  Dtype \n",
      "---  ------         --------------  ----- \n",
      " 0   industry_code  6 non-null      int64 \n",
      " 1   industry       6 non-null      object\n",
      "dtypes: int64(1), object(1)\n",
      "memory usage: 224.0+ bytes\n"
     ]
    },
    {
     "data": {
      "text/plain": [
       "'industries'"
      ]
     },
     "metadata": {},
     "output_type": "display_data"
    },
    {
     "data": {
      "text/html": [
       "<div>\n",
       "<style scoped>\n",
       "    .dataframe tbody tr th:only-of-type {\n",
       "        vertical-align: middle;\n",
       "    }\n",
       "\n",
       "    .dataframe tbody tr th {\n",
       "        vertical-align: top;\n",
       "    }\n",
       "\n",
       "    .dataframe thead th {\n",
       "        text-align: right;\n",
       "    }\n",
       "</style>\n",
       "<table border=\"1\" class=\"dataframe\">\n",
       "  <thead>\n",
       "    <tr style=\"text-align: right;\">\n",
       "      <th></th>\n",
       "      <th>industry_code</th>\n",
       "      <th>industry</th>\n",
       "    </tr>\n",
       "  </thead>\n",
       "  <tbody>\n",
       "    <tr>\n",
       "      <th>0</th>\n",
       "      <td>3</td>\n",
       "      <td>Finance</td>\n",
       "    </tr>\n",
       "    <tr>\n",
       "      <th>1</th>\n",
       "      <td>5</td>\n",
       "      <td>Retail</td>\n",
       "    </tr>\n",
       "    <tr>\n",
       "      <th>2</th>\n",
       "      <td>1</td>\n",
       "      <td>Education</td>\n",
       "    </tr>\n",
       "    <tr>\n",
       "      <th>3</th>\n",
       "      <td>6</td>\n",
       "      <td>Technology</td>\n",
       "    </tr>\n",
       "    <tr>\n",
       "      <th>4</th>\n",
       "      <td>2</td>\n",
       "      <td>F&amp;B</td>\n",
       "    </tr>\n",
       "  </tbody>\n",
       "</table>\n",
       "</div>"
      ],
      "text/plain": [
       "   industry_code    industry\n",
       "0              3     Finance\n",
       "1              5      Retail\n",
       "2              1   Education\n",
       "3              6  Technology\n",
       "4              2         F&B"
      ]
     },
     "metadata": {},
     "output_type": "display_data"
    },
    {
     "data": {
      "text/plain": [
       "None"
      ]
     },
     "metadata": {},
     "output_type": "display_data"
    },
    {
     "name": "stdout",
     "output_type": "stream",
     "text": [
      "<class 'pandas.core.frame.DataFrame'>\n",
      "RangeIndex: 3397 entries, 0 to 3396\n",
      "Data columns (total 5 columns):\n",
      " #   Column               Non-Null Count  Dtype \n",
      "---  ------               --------------  ----- \n",
      " 0   leads_id             3397 non-null   int64 \n",
      " 1   session_source_code  3397 non-null   int64 \n",
      " 2   industry_code        3397 non-null   int64 \n",
      " 3   leads_registered     3397 non-null   object\n",
      " 4   number_of_employee   3397 non-null   int64 \n",
      "dtypes: int64(4), object(1)\n",
      "memory usage: 132.8+ KB\n"
     ]
    },
    {
     "data": {
      "text/plain": [
       "'leads'"
      ]
     },
     "metadata": {},
     "output_type": "display_data"
    },
    {
     "data": {
      "text/html": [
       "<div>\n",
       "<style scoped>\n",
       "    .dataframe tbody tr th:only-of-type {\n",
       "        vertical-align: middle;\n",
       "    }\n",
       "\n",
       "    .dataframe tbody tr th {\n",
       "        vertical-align: top;\n",
       "    }\n",
       "\n",
       "    .dataframe thead th {\n",
       "        text-align: right;\n",
       "    }\n",
       "</style>\n",
       "<table border=\"1\" class=\"dataframe\">\n",
       "  <thead>\n",
       "    <tr style=\"text-align: right;\">\n",
       "      <th></th>\n",
       "      <th>leads_id</th>\n",
       "      <th>session_source_code</th>\n",
       "      <th>industry_code</th>\n",
       "      <th>leads_registered</th>\n",
       "      <th>number_of_employee</th>\n",
       "    </tr>\n",
       "  </thead>\n",
       "  <tbody>\n",
       "    <tr>\n",
       "      <th>0</th>\n",
       "      <td>244</td>\n",
       "      <td>1</td>\n",
       "      <td>1</td>\n",
       "      <td>2021-02-03 14:36:48.000000 UTC</td>\n",
       "      <td>5</td>\n",
       "    </tr>\n",
       "    <tr>\n",
       "      <th>1</th>\n",
       "      <td>290</td>\n",
       "      <td>4</td>\n",
       "      <td>1</td>\n",
       "      <td>2021-02-23 14:27:36.000000 UTC</td>\n",
       "      <td>5</td>\n",
       "    </tr>\n",
       "    <tr>\n",
       "      <th>2</th>\n",
       "      <td>425</td>\n",
       "      <td>1</td>\n",
       "      <td>1</td>\n",
       "      <td>2021-03-30 15:10:12.000000 UTC</td>\n",
       "      <td>5</td>\n",
       "    </tr>\n",
       "    <tr>\n",
       "      <th>3</th>\n",
       "      <td>437</td>\n",
       "      <td>4</td>\n",
       "      <td>1</td>\n",
       "      <td>2021-04-01 15:39:02.000000 UTC</td>\n",
       "      <td>5</td>\n",
       "    </tr>\n",
       "    <tr>\n",
       "      <th>4</th>\n",
       "      <td>462</td>\n",
       "      <td>4</td>\n",
       "      <td>1</td>\n",
       "      <td>2021-04-06 10:44:11.000000 UTC</td>\n",
       "      <td>5</td>\n",
       "    </tr>\n",
       "  </tbody>\n",
       "</table>\n",
       "</div>"
      ],
      "text/plain": [
       "   leads_id  session_source_code  industry_code  \\\n",
       "0       244                    1              1   \n",
       "1       290                    4              1   \n",
       "2       425                    1              1   \n",
       "3       437                    4              1   \n",
       "4       462                    4              1   \n",
       "\n",
       "                 leads_registered  number_of_employee  \n",
       "0  2021-02-03 14:36:48.000000 UTC                   5  \n",
       "1  2021-02-23 14:27:36.000000 UTC                   5  \n",
       "2  2021-03-30 15:10:12.000000 UTC                   5  \n",
       "3  2021-04-01 15:39:02.000000 UTC                   5  \n",
       "4  2021-04-06 10:44:11.000000 UTC                   5  "
      ]
     },
     "metadata": {},
     "output_type": "display_data"
    },
    {
     "data": {
      "text/plain": [
       "None"
      ]
     },
     "metadata": {},
     "output_type": "display_data"
    },
    {
     "name": "stdout",
     "output_type": "stream",
     "text": [
      "<class 'pandas.core.frame.DataFrame'>\n",
      "RangeIndex: 5 entries, 0 to 4\n",
      "Data columns (total 2 columns):\n",
      " #   Column               Non-Null Count  Dtype \n",
      "---  ------               --------------  ----- \n",
      " 0   session_source_code  5 non-null      int64 \n",
      " 1   session_source       5 non-null      object\n",
      "dtypes: int64(1), object(1)\n",
      "memory usage: 208.0+ bytes\n"
     ]
    },
    {
     "data": {
      "text/plain": [
       "'session_sources'"
      ]
     },
     "metadata": {},
     "output_type": "display_data"
    },
    {
     "data": {
      "text/html": [
       "<div>\n",
       "<style scoped>\n",
       "    .dataframe tbody tr th:only-of-type {\n",
       "        vertical-align: middle;\n",
       "    }\n",
       "\n",
       "    .dataframe tbody tr th {\n",
       "        vertical-align: top;\n",
       "    }\n",
       "\n",
       "    .dataframe thead th {\n",
       "        text-align: right;\n",
       "    }\n",
       "</style>\n",
       "<table border=\"1\" class=\"dataframe\">\n",
       "  <thead>\n",
       "    <tr style=\"text-align: right;\">\n",
       "      <th></th>\n",
       "      <th>session_source_code</th>\n",
       "      <th>session_source</th>\n",
       "    </tr>\n",
       "  </thead>\n",
       "  <tbody>\n",
       "    <tr>\n",
       "      <th>0</th>\n",
       "      <td>1</td>\n",
       "      <td>CPC</td>\n",
       "    </tr>\n",
       "    <tr>\n",
       "      <th>1</th>\n",
       "      <td>4</td>\n",
       "      <td>Organic Social</td>\n",
       "    </tr>\n",
       "    <tr>\n",
       "      <th>2</th>\n",
       "      <td>3</td>\n",
       "      <td>Organic Search</td>\n",
       "    </tr>\n",
       "    <tr>\n",
       "      <th>3</th>\n",
       "      <td>2</td>\n",
       "      <td>Direct</td>\n",
       "    </tr>\n",
       "    <tr>\n",
       "      <th>4</th>\n",
       "      <td>5</td>\n",
       "      <td>Refferal</td>\n",
       "    </tr>\n",
       "  </tbody>\n",
       "</table>\n",
       "</div>"
      ],
      "text/plain": [
       "   session_source_code  session_source\n",
       "0                    1             CPC\n",
       "1                    4  Organic Social\n",
       "2                    3  Organic Search\n",
       "3                    2          Direct\n",
       "4                    5        Refferal"
      ]
     },
     "metadata": {},
     "output_type": "display_data"
    },
    {
     "data": {
      "text/plain": [
       "None"
      ]
     },
     "metadata": {},
     "output_type": "display_data"
    },
    {
     "name": "stdout",
     "output_type": "stream",
     "text": [
      "<class 'pandas.core.frame.DataFrame'>\n",
      "RangeIndex: 8 entries, 0 to 7\n",
      "Data columns (total 2 columns):\n",
      " #   Column    Non-Null Count  Dtype \n",
      "---  ------    --------------  ----- \n",
      " 0   stage_id  8 non-null      int64 \n",
      " 1   stage     8 non-null      object\n",
      "dtypes: int64(1), object(1)\n",
      "memory usage: 256.0+ bytes\n"
     ]
    },
    {
     "data": {
      "text/plain": [
       "'stages'"
      ]
     },
     "metadata": {},
     "output_type": "display_data"
    },
    {
     "data": {
      "text/html": [
       "<div>\n",
       "<style scoped>\n",
       "    .dataframe tbody tr th:only-of-type {\n",
       "        vertical-align: middle;\n",
       "    }\n",
       "\n",
       "    .dataframe tbody tr th {\n",
       "        vertical-align: top;\n",
       "    }\n",
       "\n",
       "    .dataframe thead th {\n",
       "        text-align: right;\n",
       "    }\n",
       "</style>\n",
       "<table border=\"1\" class=\"dataframe\">\n",
       "  <thead>\n",
       "    <tr style=\"text-align: right;\">\n",
       "      <th></th>\n",
       "      <th>stage_id</th>\n",
       "      <th>stage</th>\n",
       "    </tr>\n",
       "  </thead>\n",
       "  <tbody>\n",
       "    <tr>\n",
       "      <th>0</th>\n",
       "      <td>103</td>\n",
       "      <td>initial_communication_success</td>\n",
       "    </tr>\n",
       "    <tr>\n",
       "      <th>1</th>\n",
       "      <td>105</td>\n",
       "      <td>discussion_success</td>\n",
       "    </tr>\n",
       "    <tr>\n",
       "      <th>2</th>\n",
       "      <td>106</td>\n",
       "      <td>offer_sent</td>\n",
       "    </tr>\n",
       "    <tr>\n",
       "      <th>3</th>\n",
       "      <td>107</td>\n",
       "      <td>quotation_recieved</td>\n",
       "    </tr>\n",
       "    <tr>\n",
       "      <th>4</th>\n",
       "      <td>108</td>\n",
       "      <td>deal_won</td>\n",
       "    </tr>\n",
       "    <tr>\n",
       "      <th>5</th>\n",
       "      <td>104</td>\n",
       "      <td>approach_success</td>\n",
       "    </tr>\n",
       "    <tr>\n",
       "      <th>6</th>\n",
       "      <td>102</td>\n",
       "      <td>leads_qualification</td>\n",
       "    </tr>\n",
       "    <tr>\n",
       "      <th>7</th>\n",
       "      <td>101</td>\n",
       "      <td>leads_registered</td>\n",
       "    </tr>\n",
       "  </tbody>\n",
       "</table>\n",
       "</div>"
      ],
      "text/plain": [
       "   stage_id                          stage\n",
       "0       103  initial_communication_success\n",
       "1       105             discussion_success\n",
       "2       106                     offer_sent\n",
       "3       107             quotation_recieved\n",
       "4       108                       deal_won\n",
       "5       104               approach_success\n",
       "6       102            leads_qualification\n",
       "7       101               leads_registered"
      ]
     },
     "metadata": {},
     "output_type": "display_data"
    },
    {
     "data": {
      "text/plain": [
       "None"
      ]
     },
     "metadata": {},
     "output_type": "display_data"
    }
   ],
   "source": [
    "#list dataset path and read\n",
    "contracts = \"./contracts.csv\"\n",
    "contracts = pd.read_csv(contracts)\n",
    "display(\"contracts\",contracts.head(),contracts.info())\n",
    "\n",
    "discounts = \"./discounts.csv\"\n",
    "discounts = pd.read_csv(discounts)\n",
    "display(\"discounts\",discounts.head(),discounts.info())\n",
    "\n",
    "discount_types = \"./discount_types.csv\"\n",
    "discount_types = pd.read_csv(discount_types)\n",
    "display(\"discount_types\",discount_types.head(),discount_types.info())\n",
    "\n",
    "funnel = \"./funnel.csv\"\n",
    "funnel = pd.read_csv(funnel)\n",
    "display(\"funnel\",funnel.head(),funnel.info())\n",
    "\n",
    "google_analytics = \"./google_analytics.csv\"\n",
    "google_analytics = pd.read_csv(google_analytics)\n",
    "display(\"google_analytics\",google_analytics.head(),google_analytics.info())\n",
    "\n",
    "industries = \"./industries.csv\"\n",
    "industries = pd.read_csv(industries)\n",
    "display(\"industries\",industries.head(),industries.info())\n",
    "\n",
    "leads = \"./leads.csv\"\n",
    "leads = pd.read_csv(leads)\n",
    "display(\"leads\",leads.head(),leads.info())\n",
    "\n",
    "session_sources = \"./session_sources.csv\"\n",
    "session_sources = pd.read_csv(session_sources)\n",
    "display(\"session_sources\",session_sources,session_sources.info())\n",
    "\n",
    "stages = \"./stages.csv\"\n",
    "stages = pd.read_csv(stages)\n",
    "display(\"stages\",stages,stages.info())"
   ]
  },
  {
   "cell_type": "code",
   "execution_count": 41,
   "id": "b9725313-bf13-4fa4-9abd-9343cdf50af8",
   "metadata": {},
   "outputs": [
    {
     "ename": "SyntaxError",
     "evalue": "unterminated string literal (detected at line 1) (3139394129.py, line 1)",
     "output_type": "error",
     "traceback": [
      "\u001b[1;36m  Cell \u001b[1;32mIn[41], line 1\u001b[1;36m\u001b[0m\n\u001b[1;33m    google_analytics[google_analytics[\"leads_id\"]==3338\"]\u001b[0m\n\u001b[1;37m                                                       ^\u001b[0m\n\u001b[1;31mSyntaxError\u001b[0m\u001b[1;31m:\u001b[0m unterminated string literal (detected at line 1)\n"
     ]
    }
   ],
   "source": [
    "google_analytics[google_analytics[\"leads_id\"]==3338\"]"
   ]
  },
  {
   "cell_type": "code",
   "execution_count": 36,
   "id": "675a6748-d1d3-4950-a14b-af06b7f4a5b2",
   "metadata": {},
   "outputs": [
    {
     "data": {
      "text/plain": [
       "4400025000"
      ]
     },
     "execution_count": 36,
     "metadata": {},
     "output_type": "execute_result"
    }
   ],
   "source": [
    "(contracts[\"user_price\"]*contracts[\"number_of_employee\"]).sum()"
   ]
  },
  {
   "cell_type": "code",
   "execution_count": 40,
   "id": "b55bdac0-55cc-4416-b190-0a76fe85a289",
   "metadata": {},
   "outputs": [
    {
     "data": {
      "text/html": [
       "<div>\n",
       "<style scoped>\n",
       "    .dataframe tbody tr th:only-of-type {\n",
       "        vertical-align: middle;\n",
       "    }\n",
       "\n",
       "    .dataframe tbody tr th {\n",
       "        vertical-align: top;\n",
       "    }\n",
       "\n",
       "    .dataframe thead th {\n",
       "        text-align: right;\n",
       "    }\n",
       "</style>\n",
       "<table border=\"1\" class=\"dataframe\">\n",
       "  <thead>\n",
       "    <tr style=\"text-align: right;\">\n",
       "      <th></th>\n",
       "      <th>funnel_id</th>\n",
       "      <th>leads_id</th>\n",
       "      <th>stage_id</th>\n",
       "      <th>TimeStamp</th>\n",
       "      <th>reason</th>\n",
       "    </tr>\n",
       "  </thead>\n",
       "  <tbody>\n",
       "    <tr>\n",
       "      <th>3337</th>\n",
       "      <td>15894</td>\n",
       "      <td>3338</td>\n",
       "      <td>101</td>\n",
       "      <td>2022-11-18 11:47:38.000000 UTC</td>\n",
       "      <td>NaN</td>\n",
       "    </tr>\n",
       "    <tr>\n",
       "      <th>5958</th>\n",
       "      <td>15948</td>\n",
       "      <td>3338</td>\n",
       "      <td>102</td>\n",
       "      <td>2022-11-22 12:18:30.000000 UTC</td>\n",
       "      <td>NaN</td>\n",
       "    </tr>\n",
       "    <tr>\n",
       "      <th>8198</th>\n",
       "      <td>15990</td>\n",
       "      <td>3338</td>\n",
       "      <td>103</td>\n",
       "      <td>2022-11-24 10:14:53.000000 UTC</td>\n",
       "      <td>NaN</td>\n",
       "    </tr>\n",
       "    <tr>\n",
       "      <th>10008</th>\n",
       "      <td>16033</td>\n",
       "      <td>3338</td>\n",
       "      <td>104</td>\n",
       "      <td>2022-11-25 16:42:52.000000 UTC</td>\n",
       "      <td>NaN</td>\n",
       "    </tr>\n",
       "    <tr>\n",
       "      <th>11407</th>\n",
       "      <td>16155</td>\n",
       "      <td>3338</td>\n",
       "      <td>105</td>\n",
       "      <td>2022-12-02 16:31:19.000000 UTC</td>\n",
       "      <td>NaN</td>\n",
       "    </tr>\n",
       "    <tr>\n",
       "      <th>12516</th>\n",
       "      <td>16181</td>\n",
       "      <td>3338</td>\n",
       "      <td>106</td>\n",
       "      <td>2022-12-05 16:23:04.000000 UTC</td>\n",
       "      <td>NaN</td>\n",
       "    </tr>\n",
       "    <tr>\n",
       "      <th>13417</th>\n",
       "      <td>16252</td>\n",
       "      <td>3338</td>\n",
       "      <td>107</td>\n",
       "      <td>2022-12-12 17:03:46.000000 UTC</td>\n",
       "      <td>NaN</td>\n",
       "    </tr>\n",
       "    <tr>\n",
       "      <th>14318</th>\n",
       "      <td>16292</td>\n",
       "      <td>3338</td>\n",
       "      <td>108</td>\n",
       "      <td>2022-12-19 16:59:47.000000 UTC</td>\n",
       "      <td>NaN</td>\n",
       "    </tr>\n",
       "  </tbody>\n",
       "</table>\n",
       "</div>"
      ],
      "text/plain": [
       "       funnel_id  leads_id  stage_id                       TimeStamp reason\n",
       "3337       15894      3338       101  2022-11-18 11:47:38.000000 UTC    NaN\n",
       "5958       15948      3338       102  2022-11-22 12:18:30.000000 UTC    NaN\n",
       "8198       15990      3338       103  2022-11-24 10:14:53.000000 UTC    NaN\n",
       "10008      16033      3338       104  2022-11-25 16:42:52.000000 UTC    NaN\n",
       "11407      16155      3338       105  2022-12-02 16:31:19.000000 UTC    NaN\n",
       "12516      16181      3338       106  2022-12-05 16:23:04.000000 UTC    NaN\n",
       "13417      16252      3338       107  2022-12-12 17:03:46.000000 UTC    NaN\n",
       "14318      16292      3338       108  2022-12-19 16:59:47.000000 UTC    NaN"
      ]
     },
     "execution_count": 40,
     "metadata": {},
     "output_type": "execute_result"
    }
   ],
   "source": [
    "funnel[funnel[\"leads_id\"]==3338]"
   ]
  },
  {
   "cell_type": "code",
   "execution_count": null,
   "id": "73ff158e-98ec-41cb-9965-07d94947447d",
   "metadata": {},
   "outputs": [],
   "source": []
  }
 ],
 "metadata": {
  "kernelspec": {
   "display_name": "Python 3 (ipykernel)",
   "language": "python",
   "name": "python3"
  },
  "language_info": {
   "codemirror_mode": {
    "name": "ipython",
    "version": 3
   },
   "file_extension": ".py",
   "mimetype": "text/x-python",
   "name": "python",
   "nbconvert_exporter": "python",
   "pygments_lexer": "ipython3",
   "version": "3.10.8"
  }
 },
 "nbformat": 4,
 "nbformat_minor": 5
}
